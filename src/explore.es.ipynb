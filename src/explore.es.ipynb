{
    "cells": [
        {
            "cell_type": "markdown",
            "metadata": {},
            "source": [
                "# Explora aquí\n",
                "\n",
                "Se recomienda utilizar este cuaderno con fines de exploración."
            ]
        },
        {
            "cell_type": "code",
            "execution_count": null,
            "metadata": {},
            "outputs": [
                {
                    "name": "stdout",
                    "output_type": "stream",
                    "text": [
                        "                 Rank                 Song                      Artist(s)  \\\n",
                        "0                   1    \"Blinding Lights\"                     The Weeknd   \n",
                        "1                   2       \"Shape of You\"                     Ed Sheeran   \n",
                        "2                   3  \"Someone You Loved\"                  Lewis Capaldi   \n",
                        "3                   4            \"Starboy\"       The Weeknd and Daft Punk   \n",
                        "4                   5          \"As It Was\"                   Harry Styles   \n",
                        "..                ...                  ...                            ...   \n",
                        "96                 97       \"Stay with Me\"                      Sam Smith   \n",
                        "97                 98   \"Someone Like You\"                          Adele   \n",
                        "98                 99             \"Havana\"  Camila Cabello and Young Thug   \n",
                        "99                100           \"Memories\"                       Maroon 5   \n",
                        "100  As of 4 May 2025     As of 4 May 2025               As of 4 May 2025   \n",
                        "\n",
                        "    Streams (billions)       Release date  \n",
                        "0                4.820   29 November 2019  \n",
                        "1                4.340     6 January 2017  \n",
                        "2                3.888    8 November 2018  \n",
                        "3                3.871  21 September 2016  \n",
                        "4                3.859       1 April 2022  \n",
                        "..                 ...                ...  \n",
                        "96               2.286      14 April 2014  \n",
                        "97               2.280    24 January 2011  \n",
                        "98               2.274      3 August 2017  \n",
                        "99               2.253  20 September 2019  \n",
                        "100   As of 4 May 2025   As of 4 May 2025  \n",
                        "\n",
                        "[101 rows x 5 columns]\n"
                    ]
                }
            ],
            "source": [
                "import os\n",
                "from bs4 import BeautifulSoup\n",
                "import requests\n",
                "import time\n",
                "import sqlite3\n",
                "import matplotlib.pyplot as plt\n",
                "import seaborn as sns\n",
                "import pandas as pd\n",
                "import urllib.request\n",
                "from dotenv import load_dotenv\n",
                "from tqdm import tqdm\n",
                "\n",
                "#Agregamos la URL en una variable\n",
                "url = 'https://en.wikipedia.org/wiki/List_of_most-streamed_songs_on_Spotify'\n",
                "\n",
                "# Realiza la solicitud http\n",
                "response = requests.get(url)\n",
                "\n",
                "#Solicitud para verificar el estado de la anterior solicitud HTTP\n",
                "response.status_code\n",
                "\n",
                "# Verificamos si la solicitud fue exitosa\n",
                "if response.status_code==200:\n",
                "   \n",
                "    #Usamos esta funcion que lee todas etiquetas <table> de URL y convierte esas tablas en dataframes\n",
                "    # devolviendo una lista de esos dataframes\n",
                "    tables = pd.read_html(url)\n",
                "    \n",
                "    #Generar el dataframe df_canciones a partir de la primera tabla existente en la URL\n",
                "    df_canciones = tables[0]\n",
                "    #print(df_canciones.head())\n",
                "\n",
                "else:\n",
                "    print(f\"Ocurrió un error: {response.status_code}\")\n",
                "\n",
                "# Eliminamos la columna ref ya que no tiene utilidad en nuestro contexto como parte del proceso de limpieza\n",
                "# no encuentro valores nulos ni vacios en la tabla asi que no elimino nada mas\n",
                "canciones_stremadas = df_canciones.drop(columns=\"Ref.\")\n",
                "#print(canciones_stremadas.head())\n",
                "\n",
                "# Cargar variables de entorno\n",
                "load_dotenv(override=True)\n",
                "db_path = os.getenv(\"DB_PATH\")\n",
                "\n",
                "#print(db_path)\n",
                "\n",
                "# Conectarse a la base de datos y guardar el DataFrame\n",
                "conn = sqlite3.connect(db_path)\n",
                "canciones_stremadas.to_sql(\"canciones\", conn, if_exists=\"replace\", index=False)\n",
                "conn.close()\n",
                "\n",
                "# Hacemos consulta de la tabla canciones\n",
                "conn = sqlite3.connect(db_path)\n",
                "df2 = pd.read_sql(\"SELECT * FROM canciones\", conn)\n",
                "print(df2)\n",
                "conn.close()\n"
            ]
        }
    ],
    "metadata": {
        "kernelspec": {
            "display_name": "Python 3",
            "language": "python",
            "name": "python3"
        },
        "language_info": {
            "codemirror_mode": {
                "name": "ipython",
                "version": 3
            },
            "file_extension": ".py",
            "mimetype": "text/x-python",
            "name": "python",
            "nbconvert_exporter": "python",
            "pygments_lexer": "ipython3",
            "version": "3.11.4"
        },
        "orig_nbformat": 4
    },
    "nbformat": 4,
    "nbformat_minor": 2
}
