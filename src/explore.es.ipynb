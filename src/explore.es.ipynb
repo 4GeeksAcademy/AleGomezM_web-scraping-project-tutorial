{
    "cells": [
        {
            "cell_type": "markdown",
            "metadata": {},
            "source": [
                "# Explora aquí\n",
                "\n",
                "Se recomienda utilizar este cuaderno con fines de exploración."
            ]
        },
        {
            "cell_type": "code",
            "execution_count": 2,
            "metadata": {},
            "outputs": [
                {
                    "name": "stdout",
                    "output_type": "stream",
                    "text": [
                        "  Rank                 Song                 Artist(s) Streams (billions)  \\\n",
                        "0    1    \"Blinding Lights\"                The Weeknd              4.820   \n",
                        "1    2       \"Shape of You\"                Ed Sheeran              4.340   \n",
                        "2    3  \"Someone You Loved\"             Lewis Capaldi              3.888   \n",
                        "3    4            \"Starboy\"  The Weeknd and Daft Punk              3.871   \n",
                        "4    5          \"As It Was\"              Harry Styles              3.859   \n",
                        "\n",
                        "        Release date Ref.  \n",
                        "0   29 November 2019  [2]  \n",
                        "1     6 January 2017  [3]  \n",
                        "2    8 November 2018  [4]  \n",
                        "3  21 September 2016  [5]  \n",
                        "4       1 April 2022  [6]  \n",
                        "  Rank                 Song                 Artist(s) Streams (billions)  \\\n",
                        "0    1    \"Blinding Lights\"                The Weeknd              4.820   \n",
                        "1    2       \"Shape of You\"                Ed Sheeran              4.340   \n",
                        "2    3  \"Someone You Loved\"             Lewis Capaldi              3.888   \n",
                        "3    4            \"Starboy\"  The Weeknd and Daft Punk              3.871   \n",
                        "4    5          \"As It Was\"              Harry Styles              3.859   \n",
                        "\n",
                        "        Release date  \n",
                        "0   29 November 2019  \n",
                        "1     6 January 2017  \n",
                        "2    8 November 2018  \n",
                        "3  21 September 2016  \n",
                        "4       1 April 2022  \n"
                    ]
                }
            ],
            "source": [
                "import os\n",
                "from bs4 import BeautifulSoup\n",
                "import requests\n",
                "import time\n",
                "import sqlite3\n",
                "import matplotlib.pyplot as plt\n",
                "import seaborn as sns\n",
                "import pandas as pd\n",
                "import urllib.request\n",
                "#from tqdm import tqdm\n",
                "\n",
                "#TE AMOOOOOOOOOOOOOOOOOOOOOOOOOOO\n",
                "\n",
                "#Agregamos la URL en una variable\n",
                "url = 'https://en.wikipedia.org/wiki/List_of_most-streamed_songs_on_Spotify'\n",
                "\n",
                "# Realiza la solicitud http\n",
                "response = requests.get(url)\n",
                "\n",
                "#Solicitud para verificar el estado de la anterior solicitud HTTP\n",
                "response.status_code\n",
                "\n",
                "# Verificamos si la solicitud fue exitosa\n",
                "if response.status_code==200:\n",
                "   \n",
                "    #Usamos esta funcion que lee todas etiquetas <table> de URL y convierte esas tablas en dataframes\n",
                "    # devolviendo una lista de esos dataframes\n",
                "    tables = pd.read_html(url)\n",
                "    \n",
                "    #Generar el dataframe df_canciones a partir de la primera tabla existente en la URL\n",
                "    df_canciones = tables[0]\n",
                "    print(df_canciones.head())\n",
                "\n",
                "else:\n",
                "    print(f\"Ocurrió un error: {response.status_code}\")\n",
                "\n",
                "# Eliminamos la columna referencia ya que no tiene utilidad en nuestro contexto como parte del proceso de limpieza\n",
                "# no encuentro valores nulos ni vacios en la tabla asi que no elimino nada mas\n",
                "canciones_stremadas = df_canciones.drop(columns=\"Ref.\")\n",
                "print(canciones_stremadas.head())\n",
                "\n",
                "\n",
                "\n",
                "\n"
            ]
        }
    ],
    "metadata": {
        "kernelspec": {
            "display_name": "Python 3",
            "language": "python",
            "name": "python3"
        },
        "language_info": {
            "codemirror_mode": {
                "name": "ipython",
                "version": 3
            },
            "file_extension": ".py",
            "mimetype": "text/x-python",
            "name": "python",
            "nbconvert_exporter": "python",
            "pygments_lexer": "ipython3",
            "version": "3.11.4"
        },
        "orig_nbformat": 4
    },
    "nbformat": 4,
    "nbformat_minor": 2
}
