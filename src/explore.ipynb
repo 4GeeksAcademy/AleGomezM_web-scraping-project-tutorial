{
    "cells": [
        {
            "cell_type": "markdown",
            "metadata": {},
            "source": [
                "# Explore here\n",
                "\n",
                "It's recommended to use this notebook for exploration purposes."
            ]
        },
        {
            "cell_type": "code",
            "execution_count": 14,
            "metadata": {},
            "outputs": [],
            "source": [
                "import os\n",
                "from sqlalchemy import create_engine\n",
                "import pandas as pd\n",
                "from dotenv import load_dotenv\n",
                "from bs4 import BeautifulSoup\n",
                "import requests\n",
                "import time\n",
                "import sqlite3\n",
                "import matplotlib.pyplot as plt\n",
                "import seaborn as sns"
            ]
        },
        {
            "cell_type": "code",
            "execution_count": 2,
            "metadata": {},
            "outputs": [
                {
                    "data": {
                        "text/plain": [
                            "'<html>\\r\\n<head>\\r\\n\\n</head>\\r\\n<body>\\r\\n<div style=\"margin: 50px auto; width: 50%; border: 1px solid #dfdfdf; padding: 20px 50px 30px 50px; font-family:helvetica;\">\\r\\n\\r\\n<h1>We do not allow automated access to our servers.</h1>\\r\\n<h2><p>Automated access to our data is prohibited by our data provider.</p>  \\r\\n<p>If you are a user attempting to access the site via a browser, please follow this process to regain access:</p>\\r\\n\\r\\n<ul>\\r\\n  <li>Go to <a href=\\'https://whatismyipaddress.com/\\' target=\\'_blank\\' rel=\\'noopener noreferrer\\'>whatismyipaddress</a> and obtain your IPv4 address</li>\\r\\n  <li>Email us your IPv4 address at <a href=\"/cdn-cgi/l/email-protection\" class=\"__cf_email__\" data-cfemail=\"4821262e270825292b3a273c3a2d262c3b66262d3c\">[email&#160;protected]</a></li>\\r\\n  <li>We will add you to our whitelist within 24 hours</li>\\r\\n</ul>\\r\\n</h2>\\r\\n</div>\\r\\n<script data-cfasync=\"false\">!function(){\"use strict\";function e(e){try{if(\"undefined\"==typeof console)return;\"error\"in console?console.error(e):console.log(e)}catch(e){}}function t(e,t){var r=e.substr(t,2);return parseInt(r,16)}function r(r,n){for(var c=\"\",o=t(r,n),a=n+2;a<r.length;a+=2){var l=t(r,a)^o;c+=String.fromCharCode(l)}try{c=decodeURIComponent(escape(c))}catch(t){e(t)}return function(e){return i.innerHTML=\\'<a href=\"\\'+e.replace(/\"/g,\"&quot;\")+\\'\"></a>\\',i.childNodes[0].getAttribute(\"href\")||\"\"}(c)}function n(t){try{(function(t){for(var n=t.querySelectorAll(\"a\"),o=0;o<n.length;o++)try{var a=n[o],i=a.href.indexOf(c);i>-1&&(a.href=\"mailto:\"+r(a.href,i+c.length))}catch(t){e(t)}})(t),function(t){for(var n=t.querySelectorAll(o),c=0;c<n.length;c++)try{var i=n[c],l=i.parentNode,u=i.getAttribute(a);if(u){var f=r(u,0),d=document.createTextNode(f);l.replaceChild(d,i)}}catch(t){e(t)}}(t),function(t){for(var r=t.querySelectorAll(\"template\"),c=0;c<r.length;c++)try{n(r[c].content)}catch(t){e(t)}}(t)}catch(t){e(t)}}var c=\"/cdn-cgi/l/email-protection#\",o=\".__cf_email__\",a=\"data-cfemail\",i=document.createElement(\"div\");n(document),function(){var e=document.currentScript||document.scripts[document.scripts.length-1];e.parentNode.removeChild(e)}()}();</script><script>(function(){var js = \"window[\\'__CF$cv$params\\']={r:\\'83fc7c0eead46334\\',t:\\'MTcwNDI5Nzk0MC4zMTQwMDA=\\'};_cpo=document.createElement(\\'script\\');_cpo.nonce=\\'\\',_cpo.src=\\'/cdn-cgi/challenge-platform/scripts/jsd/main.js\\',document.getElementsByTagName(\\'head\\')[0].appendChild(_cpo);\";var _0xh = document.createElement(\\'iframe\\');_0xh.height = 1;_0xh.width = 1;_0xh.style.position = \\'absolute\\';_0xh.style.top = 0;_0xh.style.left = 0;_0xh.style.border = \\'none\\';_0xh.style.visibility = \\'hidden\\';document.body.appendChild(_0xh);function handler() {var _0xi = _0xh.contentDocument || _0xh.contentWindow.document;if (_0xi) {var _0xj = _0xi.createElement(\\'script\\');_0xj.innerHTML = js;_0xi.getElementsByTagName(\\'head\\')[0].appendChild(_0xj);}}if (document.readyState !== \\'loading\\') {handler();} else if (window.addEventListener) {document.addEventListener(\\'DOMContentLoaded\\', handler);} else {var prev = document.onreadystatechange || function () {};document.onreadystatechange = function (e) {prev(e);if (document.readyState !== \\'loading\\') {document.onreadystatechange = prev;handler();}};}})();</script></body>\\r\\n</html>'"
                        ]
                    },
                    "execution_count": 2,
                    "metadata": {},
                    "output_type": "execute_result"
                }
            ],
            "source": [
                "url = \" https://www.macrotrends.net/stocks/charts/TSLA/tesla/revenue\"\n",
                "html_data = requests.get(url, time.sleep(10)).text\n",
                "\n",
                "if \"403 Forbidden\" in html_data:\n",
                "    headers = {\"User-Agent\": \"Mozilla/5.0 (Macintosh; Intel Mac OS X 10_11_5) AppleWebKit/537.36 (KHTML, like Gecko) Chrome/50.0.2661.102 Safari/537.36\"}\n",
                "    request = requests.get(url, headers = headers)\n",
                "    time.sleep(10)\n",
                "    html_data = request.text\n",
                "\n",
                "html_data"
            ]
        },
        {
            "cell_type": "code",
            "execution_count": 5,
            "metadata": {},
            "outputs": [
                {
                    "data": {
                        "text/plain": [
                            "[]"
                        ]
                    },
                    "execution_count": 5,
                    "metadata": {},
                    "output_type": "execute_result"
                }
            ],
            "source": [
                "soup = BeautifulSoup(html_data,\"html.parser\")\n",
                "soup\n",
                "tables = soup.find_all(\"table\")\n",
                "tables"
            ]
        },
        {
            "cell_type": "code",
            "execution_count": 6,
            "metadata": {},
            "outputs": [
                {
                    "ename": "NameError",
                    "evalue": "name 'table_index' is not defined",
                    "output_type": "error",
                    "traceback": [
                        "\u001b[0;31m---------------------------------------------------------------------------\u001b[0m",
                        "\u001b[0;31mNameError\u001b[0m                                 Traceback (most recent call last)",
                        "Cell \u001b[0;32mIn[6], line 8\u001b[0m\n\u001b[1;32m      6\u001b[0m \u001b[38;5;66;03m# Create a DataFrame\u001b[39;00m\n\u001b[1;32m      7\u001b[0m tesla_revenue \u001b[38;5;241m=\u001b[39m pd\u001b[38;5;241m.\u001b[39mDataFrame(columns \u001b[38;5;241m=\u001b[39m [\u001b[38;5;124m\"\u001b[39m\u001b[38;5;124mDate\u001b[39m\u001b[38;5;124m\"\u001b[39m, \u001b[38;5;124m\"\u001b[39m\u001b[38;5;124mRevenue\u001b[39m\u001b[38;5;124m\"\u001b[39m])\n\u001b[0;32m----> 8\u001b[0m \u001b[38;5;28;01mfor\u001b[39;00m row \u001b[38;5;129;01min\u001b[39;00m tables[\u001b[43mtable_index\u001b[49m]\u001b[38;5;241m.\u001b[39mtbody\u001b[38;5;241m.\u001b[39mfind_all(\u001b[38;5;124m\"\u001b[39m\u001b[38;5;124mtr\u001b[39m\u001b[38;5;124m\"\u001b[39m):\n\u001b[1;32m      9\u001b[0m     col \u001b[38;5;241m=\u001b[39m row\u001b[38;5;241m.\u001b[39mfind_all(\u001b[38;5;124m\"\u001b[39m\u001b[38;5;124mtd\u001b[39m\u001b[38;5;124m\"\u001b[39m)\n\u001b[1;32m     10\u001b[0m     \u001b[38;5;28;01mif\u001b[39;00m (col \u001b[38;5;241m!=\u001b[39m []):\n",
                        "\u001b[0;31mNameError\u001b[0m: name 'table_index' is not defined"
                    ]
                }
            ],
            "source": [
                "for index, table in enumerate(tables):\n",
                "    if (\"Tesla Quarterly Revenue\" in str(table)):\n",
                "        table_index = index\n",
                "        break\n",
                "\n",
                "# Create a DataFrame\n",
                "tesla_revenue = pd.DataFrame(columns = [\"Date\", \"Revenue\"])\n",
                "for row in tables[table_index].tbody.find_all(\"tr\"):\n",
                "    col = row.find_all(\"td\")\n",
                "    if (col != []):\n",
                "        Date = col[0].text\n",
                "        Revenue = col[1].text.replace(\"$\", \"\").replace(\",\", \"\")\n",
                "        tesla_revenue = pd.concat([tesla_revenue, pd.DataFrame({\n",
                "            \"Date\": Date,\n",
                "            \"Revenue\": Revenue\n",
                "        }, index = [0])], ignore_index = True)\n",
                "\n",
                "tesla_revenue.head()"
            ]
        },
        {
            "cell_type": "code",
            "execution_count": 7,
            "metadata": {},
            "outputs": [
                {
                    "data": {
                        "text/html": [
                            "<div>\n",
                            "<style scoped>\n",
                            "    .dataframe tbody tr th:only-of-type {\n",
                            "        vertical-align: middle;\n",
                            "    }\n",
                            "\n",
                            "    .dataframe tbody tr th {\n",
                            "        vertical-align: top;\n",
                            "    }\n",
                            "\n",
                            "    .dataframe thead th {\n",
                            "        text-align: right;\n",
                            "    }\n",
                            "</style>\n",
                            "<table border=\"1\" class=\"dataframe\">\n",
                            "  <thead>\n",
                            "    <tr style=\"text-align: right;\">\n",
                            "      <th></th>\n",
                            "      <th>Date</th>\n",
                            "      <th>Revenue</th>\n",
                            "    </tr>\n",
                            "  </thead>\n",
                            "  <tbody>\n",
                            "  </tbody>\n",
                            "</table>\n",
                            "</div>"
                        ],
                        "text/plain": [
                            "Empty DataFrame\n",
                            "Columns: [Date, Revenue]\n",
                            "Index: []"
                        ]
                    },
                    "execution_count": 7,
                    "metadata": {},
                    "output_type": "execute_result"
                }
            ],
            "source": [
                "tesla_revenue = tesla_revenue[tesla_revenue[\"Revenue\"] != \"\"]\n",
                "tesla_revenue.head()"
            ]
        },
        {
            "cell_type": "code",
            "execution_count": 9,
            "metadata": {},
            "outputs": [
                {
                    "data": {
                        "text/plain": [
                            "<sqlite3.Connection at 0x7f340ca2f5b0>"
                        ]
                    },
                    "execution_count": 9,
                    "metadata": {},
                    "output_type": "execute_result"
                }
            ],
            "source": [
                "connection = sqlite3.connect(\"Tesla.db\")\n",
                "connection"
            ]
        },
        {
            "cell_type": "code",
            "execution_count": 10,
            "metadata": {},
            "outputs": [
                {
                    "data": {
                        "text/plain": [
                            "<sqlite3.Cursor at 0x7f340cc4b240>"
                        ]
                    },
                    "execution_count": 10,
                    "metadata": {},
                    "output_type": "execute_result"
                }
            ],
            "source": [
                "cursor = connection.cursor()\n",
                "cursor.execute(\"\"\"CREATE TABLE revenue (Date, Revenue)\"\"\")"
            ]
        },
        {
            "cell_type": "code",
            "execution_count": 11,
            "metadata": {},
            "outputs": [
                {
                    "data": {
                        "text/plain": [
                            "[]"
                        ]
                    },
                    "execution_count": 11,
                    "metadata": {},
                    "output_type": "execute_result"
                }
            ],
            "source": [
                "tesla_tuples = list(tesla_revenue.to_records(index = False))\n",
                "tesla_tuples[:5]"
            ]
        },
        {
            "cell_type": "code",
            "execution_count": 12,
            "metadata": {},
            "outputs": [],
            "source": [
                "cursor.executemany(\"INSERT INTO revenue VALUES (?,?)\", tesla_tuples)\n",
                "connection.commit()"
            ]
        },
        {
            "cell_type": "code",
            "execution_count": 13,
            "metadata": {},
            "outputs": [],
            "source": [
                "for row in cursor.execute(\"SELECT * FROM revenue\"):\n",
                "    print(row)"
            ]
        },
        {
            "cell_type": "code",
            "execution_count": 15,
            "metadata": {},
            "outputs": [
                {
                    "data": {
                        "image/png": "[encoded data removed]",
                        "text/plain": [
                            "<Figure size 1000x500 with 1 Axes>"
                        ]
                    },
                    "metadata": {},
                    "output_type": "display_data"
                }
            ],
            "source": [
                "fig, axis = plt.subplots(figsize = (10, 5))\n",
                "\n",
                "tesla_revenue[\"Date\"] = pd.to_datetime(tesla_revenue[\"Date\"])\n",
                "tesla_revenue[\"Revenue\"] = tesla_revenue[\"Revenue\"].astype('int')\n",
                "sns.lineplot(data = tesla_revenue, x = \"Date\", y = \"Revenue\")\n",
                "\n",
                "plt.tight_layout()\n",
                "\n",
                "plt.show()"
            ]
        },
        {
            "cell_type": "code",
            "execution_count": 16,
            "metadata": {},
            "outputs": [
                {
                    "data": {
                        "image/png": "[encoded data removed]",
                        "text/plain": [
                            "<Figure size 1000x500 with 1 Axes>"
                        ]
                    },
                    "metadata": {},
                    "output_type": "display_data"
                }
            ],
            "source": [
                "fig, axis = plt.subplots(figsize = (10, 5))\n",
                "\n",
                "tesla_revenue[\"Date\"] = pd.to_datetime(tesla_revenue[\"Date\"])\n",
                "tesla_revenue_yearly = tesla_revenue.groupby(tesla_revenue[\"Date\"].dt.year).sum().reset_index()\n",
                "\n",
                "sns.barplot(data = tesla_revenue_yearly[tesla_revenue_yearly[\"Date\"] < 2023], x = \"Date\", y = \"Revenue\")\n",
                "\n",
                "plt.tight_layout()\n",
                "\n",
                "plt.show()"
            ]
        },
        {
            "cell_type": "code",
            "execution_count": 17,
            "metadata": {},
            "outputs": [
                {
                    "data": {
                        "image/png": "[encoded data removed]",
                        "text/plain": [
                            "<Figure size 1000x500 with 1 Axes>"
                        ]
                    },
                    "metadata": {},
                    "output_type": "display_data"
                }
            ],
            "source": [
                "fig, axis = plt.subplots(figsize = (10, 5))\n",
                "\n",
                "tesla_revenue_monthly = tesla_revenue.groupby(tesla_revenue[\"Date\"].dt.month).sum().reset_index()\n",
                "\n",
                "sns.barplot(data = tesla_revenue_monthly, x = \"Date\", y = \"Revenue\")\n",
                "\n",
                "plt.tight_layout()\n",
                "\n",
                "plt.show()"
            ]
        },
        {
            "cell_type": "code",
            "execution_count": null,
            "metadata": {},
            "outputs": [],
            "source": []
        }
    ],
    "metadata": {
        "kernelspec": {
            "display_name": "Python 3.8.13 64-bit ('3.8.13')",
            "language": "python",
            "name": "python3"
        },
        "language_info": {
            "codemirror_mode": {
                "name": "ipython",
                "version": 3
            },
            "file_extension": ".py",
            "mimetype": "text/x-python",
            "name": "python",
            "nbconvert_exporter": "python",
            "pygments_lexer": "ipython3",
            "version": "3.11.4"
        },
        "orig_nbformat": 4,
        "vscode": {
            "interpreter": {
                "hash": "110cc1dee26208153f2972f08a2ad52b6a56238dc66d48e87fb757ef2996db56"
            }
        }
    },
    "nbformat": 4,
    "nbformat_minor": 2
}
